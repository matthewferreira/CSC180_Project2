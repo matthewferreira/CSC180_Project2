{
 "cells": [
  {
   "cell_type": "code",
   "execution_count": 117,
   "metadata": {},
   "outputs": [
    {
     "name": "stdout",
     "output_type": "stream",
     "text": [
      "(494020, 42)\n"
     ]
    }
   ],
   "source": [
    "import pandas as pd\n",
    "import numpy as np\n",
    "\n",
    "df = pd.read_csv('data/network_intrusion_data.csv')\n",
    "print(df.shape)"
   ]
  },
  {
   "cell_type": "code",
   "execution_count": 118,
   "metadata": {},
   "outputs": [],
   "source": [
    "df.columns = ['duration', 'protocol_type','service','flag', 'src_bytes','dst_bytes','land','wrong_fragment','urgent','hot','num_failed_logins', 'logged_in', 'num_compromised', 'root_shell', 'su_attempted',\n",
    "    'num_root', 'num_file_creations', 'num_shells', 'num_access_files', 'num_outbound_cmds', 'is_host_login','is_guest_login', 'count', 'srv_count', 'serror_rate', 'srv_serror_rate', 'rerror_rate', 'srv_rerror_rate',\n",
    "     'same_srv_rate', 'diff_srv_rate', 'srv_diff_host_rate','dst_host_count', 'dst_host_srv_count', 'dst_host_same_srv_rate', 'dst_host_diff_srv_rate', 'dst_host_same_src_port_rate', 'dst_host_srv_diff_host_rate', 'dst_host_serror_rate', \n",
    "     'dst_host_srv_serror_rate', 'dst_host_rerror_rate', 'dst_host_srv_rerror_rate', 'outcome' ] "
   ]
  },
  {
   "cell_type": "code",
   "execution_count": 119,
   "metadata": {},
   "outputs": [],
   "source": [
    "#encoding bad connections to 1 and good to 0\n",
    "\n",
    "for i in range(df['outcome'].values.size):\n",
    "    if df['outcome'].values[i] == 'normal.':\n",
    "        df['outcome'].values[i] = 0\n",
    "    elif df['outcome'].values[i] != 'normal.':\n",
    "        df['outcome'].values[i] = 1\n",
    "\n"
   ]
  },
  {
   "cell_type": "code",
   "execution_count": 120,
   "metadata": {},
   "outputs": [
    {
     "name": "stdout",
     "output_type": "stream",
     "text": [
      "(145584, 42)\n"
     ]
    }
   ],
   "source": [
    "#dropping duplicate records\n",
    "df.drop_duplicates(keep='first', inplace=True)\n",
    "print(df.shape)"
   ]
  },
  {
   "cell_type": "code",
   "execution_count": 121,
   "metadata": {},
   "outputs": [],
   "source": [
    "# Encode text values \n",
    "from sklearn import preprocessing\n",
    "def encode_text_index(df, name):\n",
    "    le = preprocessing.LabelEncoder()\n",
    "    df[name] = le.fit_transform(df[name])\n",
    "    return le.classes_"
   ]
  },
  {
   "cell_type": "code",
   "execution_count": 122,
   "metadata": {},
   "outputs": [],
   "source": [
    "#encoding categorical features: protocol type,service, flag\n",
    "encoded_df = df\n",
    "categorical_features = pd.Index(['protocol_type', 'service', 'flag'])\n",
    "for feature in categorical_features:\n",
    "    encode_text_index(encoded_df, feature)\n"
   ]
  },
  {
   "cell_type": "code",
   "execution_count": 123,
   "metadata": {},
   "outputs": [],
   "source": [
    "#encoding numerical features\n",
    "def encode_numeric_zscore(df, name, mean=None, sd=None):\n",
    "    if mean is None:\n",
    "        mean = df[name].mean()\n",
    "\n",
    "    if sd is None:\n",
    "        sd = df[name].std()\n",
    "\n",
    "    df[name] = (df[name] - mean) / sd"
   ]
  },
  {
   "cell_type": "code",
   "execution_count": 124,
   "metadata": {},
   "outputs": [],
   "source": [
    "numeric_features = pd.Index(['duration', 'src_bytes','dst_bytes','land','wrong_fragment','urgent','hot','num_failed_logins', 'logged_in', 'num_compromised', 'root_shell', 'su_attempted',\n",
    "    'num_root', 'num_file_creations', 'num_shells', 'num_access_files', 'num_outbound_cmds', 'is_host_login','is_guest_login', 'count', 'srv_count', 'serror_rate', 'srv_serror_rate', 'rerror_rate', 'srv_rerror_rate',\n",
    "     'same_srv_rate', 'diff_srv_rate', 'srv_diff_host_rate','dst_host_count', 'dst_host_srv_count', 'dst_host_same_srv_rate', 'dst_host_diff_srv_rate', 'dst_host_same_src_port_rate', 'dst_host_srv_diff_host_rate', 'dst_host_serror_rate', \n",
    "     'dst_host_srv_serror_rate', 'dst_host_rerror_rate', 'dst_host_srv_rerror_rate' ])"
   ]
  },
  {
   "cell_type": "code",
   "execution_count": 125,
   "metadata": {},
   "outputs": [],
   "source": [
    "#encoding numeric features\n",
    "for feature in numeric_features:\n",
    "    encode_numeric_zscore(encoded_df, feature)"
   ]
  },
  {
   "cell_type": "code",
   "execution_count": 126,
   "metadata": {},
   "outputs": [
    {
     "name": "stdout",
     "output_type": "stream",
     "text": [
      "   duration  protocol_type  service  flag  src_bytes  dst_bytes      land  \\\n",
      "0 -0.107851              1       22     9  -0.004261  -0.039036 -0.011722   \n",
      "1 -0.107851              1       22     9  -0.004263  -0.025042 -0.011722   \n",
      "2 -0.107851              1       22     9  -0.004272  -0.025042 -0.011722   \n",
      "3 -0.107851              1       22     9  -0.004273  -0.013613 -0.011722   \n",
      "4 -0.107851              1       22     9  -0.004273  -0.013613 -0.011722   \n",
      "\n",
      "   wrong_fragment    urgent      hot  ...  dst_host_srv_count  \\\n",
      "0       -0.084394 -0.004737 -0.07021  ...           -0.967064   \n",
      "1       -0.084394 -0.004737 -0.07021  ...           -0.879891   \n",
      "2       -0.084394 -0.004737 -0.07021  ...           -0.792718   \n",
      "3       -0.084394 -0.004737 -0.07021  ...           -0.705545   \n",
      "4       -0.084394 -0.004737 -0.07021  ...           -0.618372   \n",
      "\n",
      "   dst_host_same_srv_rate  dst_host_diff_srv_rate  \\\n",
      "0                0.979281               -0.417557   \n",
      "1                0.979281               -0.417557   \n",
      "2                0.979281               -0.417557   \n",
      "3                0.979281               -0.417557   \n",
      "4                0.979281               -0.417557   \n",
      "\n",
      "   dst_host_same_src_port_rate  dst_host_srv_diff_host_rate  \\\n",
      "0                    -0.177587                    -0.315311   \n",
      "1                    -0.260536                    -0.315311   \n",
      "2                    -0.260536                    -0.315311   \n",
      "3                    -0.302010                    -0.315311   \n",
      "4                    -0.302010                    -0.315311   \n",
      "\n",
      "   dst_host_serror_rate  dst_host_srv_serror_rate  dst_host_rerror_rate  \\\n",
      "0             -0.644432                 -0.641709             -0.360879   \n",
      "1             -0.644432                 -0.641709             -0.360879   \n",
      "2             -0.644432                 -0.641709             -0.360879   \n",
      "3             -0.644432                 -0.641709             -0.360879   \n",
      "4             -0.644432                 -0.641709             -0.360879   \n",
      "\n",
      "   dst_host_srv_rerror_rate  outcome  \n",
      "0                 -0.353942        0  \n",
      "1                 -0.353942        0  \n",
      "2                 -0.353942        0  \n",
      "3                 -0.353942        0  \n",
      "4                 -0.353942        0  \n",
      "\n",
      "[5 rows x 40 columns]\n"
     ]
    }
   ],
   "source": [
    "# dropping columns that were NaN after normalizing\n",
    "processed_df = encoded_df.drop(columns=['is_host_login', 'num_outbound_cmds'])\n",
    "print(processed_df.head())"
   ]
  },
  {
   "cell_type": "code",
   "execution_count": 127,
   "metadata": {},
   "outputs": [],
   "source": [
    "from collections.abc import Sequence\n",
    "# Convert a Pandas dataframe to the x,y inputs that TensorFlow needs\n",
    "def to_xy(df, target):\n",
    "    result = []\n",
    "    for x in df.columns:\n",
    "        if x != target:\n",
    "            result.append(x)\n",
    "    # find out the type of the target column. \n",
    "    target_type = df[target].dtypes\n",
    "    target_type = target_type[0] if isinstance(target_type, Sequence) else target_type\n",
    "    # Encode to int for classification, float otherwise. TensorFlow likes 32 bits.\n",
    "    if target_type in (np.int64, np.int32):\n",
    "        # Classification\n",
    "        dummies = pd.get_dummies(df[target])\n",
    "        return df[result].values.astype(np.float32), dummies.values.astype(np.float32)\n",
    "    else:\n",
    "        # Regression\n",
    "        return df[result].values.astype(np.float32), df[target].values.astype(np.float32)\n",
    "\n",
    "\n"
   ]
  },
  {
   "cell_type": "code",
   "execution_count": 128,
   "metadata": {},
   "outputs": [],
   "source": [
    "#splitting data into test and train\n",
    "x, y = to_xy(processed_df, 'outcome')\n",
    "outcome = encode_text_index(processed_df,'outcome')\n",
    "from sklearn.model_selection import train_test_split\n",
    "import tensorflow as tf\n",
    "x_train, x_test, y_train, y_test = train_test_split(x, y, test_size=0.25, random_state=42)"
   ]
  },
  {
   "cell_type": "code",
   "execution_count": 129,
   "metadata": {},
   "outputs": [],
   "source": [
    "\n",
    "from tensorflow.keras.models import Sequential\n",
    "from tensorflow.keras.layers import Dense, Dropout, Flatten\n",
    "from tensorflow.keras.callbacks import ModelCheckpoint, EarlyStopping\n",
    "\n",
    "from sklearn import metrics\n",
    "\n",
    "%matplotlib inline\n",
    "import matplotlib.pyplot as plt\n",
    "from sklearn.metrics import roc_curve, auc\n",
    "\n",
    "# Plot a confusion matrix.\n",
    "# cm is the confusion matrix, names are the names of the classes.\n",
    "def plot_confusion_matrix(cm, names, title='Confusion matrix', cmap=plt.cm.Blues):\n",
    "    plt.imshow(cm, interpolation='nearest', cmap=cmap)\n",
    "    plt.title(title)\n",
    "    plt.colorbar()\n",
    "    tick_marks = np.arange(len(names))\n",
    "    plt.xticks(tick_marks, names, rotation=45)\n",
    "    plt.yticks(tick_marks, names)\n",
    "    plt.tight_layout()\n",
    "    plt.ylabel('True label')\n",
    "    plt.xlabel('Predicted label')\n",
    "\n",
    "def hms_string(sec_elapsed):\n",
    "    h = int(sec_elapsed / (60 * 60))\n",
    "    m = int((sec_elapsed % (60 * 60)) / 60)\n",
    "    s = sec_elapsed % 60\n",
    "    return \"{}:{:>02}:{:>05.2f}\".format(h, m, s)"
   ]
  },
  {
   "cell_type": "code",
   "execution_count": 130,
   "metadata": {},
   "outputs": [],
   "source": [
    "y_train = tf.keras.utils.to_categorical(y_train, 2)\n",
    "y_test = tf.keras.utils.to_categorical(y_test, 2)\n",
    "#print(y_train.shape)\n",
    "#print(y_test.shape)\n"
   ]
  },
  {
   "cell_type": "code",
   "execution_count": 131,
   "metadata": {},
   "outputs": [
    {
     "name": "stdout",
     "output_type": "stream",
     "text": [
      "494019\n",
      "Epoch 1/100\n",
      "3413/3413 - 2s - loss: 0.0392 - val_loss: 0.0128\n",
      "Epoch 2/100\n",
      "3413/3413 - 2s - loss: 0.0120 - val_loss: 0.0103\n",
      "Epoch 3/100\n",
      "3413/3413 - 2s - loss: 0.0100 - val_loss: 0.0085\n",
      "Epoch 4/100\n",
      "3413/3413 - 2s - loss: 0.0089 - val_loss: 0.0084\n",
      "Epoch 5/100\n",
      "3413/3413 - 2s - loss: 0.0083 - val_loss: 0.0067\n",
      "Epoch 6/100\n",
      "3413/3413 - 2s - loss: 0.0077 - val_loss: 0.0068\n",
      "Epoch 7/100\n",
      "3413/3413 - 2s - loss: 0.0074 - val_loss: 0.0100\n",
      "Epoch 8/100\n",
      "3413/3413 - 2s - loss: 0.0071 - val_loss: 0.0061\n",
      "Epoch 9/100\n",
      "3413/3413 - 2s - loss: 0.0068 - val_loss: 0.0069\n",
      "Epoch 10/100\n",
      "3413/3413 - 2s - loss: 0.0065 - val_loss: 0.0088\n",
      "Epoch 00010: early stopping\n",
      "Training finished...Loading the best model\n",
      "FCNN: TANH - ADAM RESULTS\n",
      "Layers: 40 -> 20 -> 2\n",
      "Layer Count: 3\n",
      "Final accuracy: 0.9981316628200901\n",
      "Precision score: 0.9981315944654018\n",
      "Recall score: 0.9981316628200901\n",
      "F1 score: 0.9981315498070049\n",
      "Log loss score: 0.06453071719912733\n"
     ]
    }
   ],
   "source": [
    "# Define ModelCheckpoint outside the loop\n",
    "checkpointer = ModelCheckpoint(filepath=\"dnn/best_weights.hdf5\", verbose=0, save_best_only=True) # save best model\n",
    "\n",
    "#for i in range(5):\n",
    "print(i)\n",
    "\n",
    " # Build network\n",
    "model = Sequential()\n",
    "model.add(Dense(40, input_dim=x.shape[1], activation='tanh'))\n",
    "#model.add(Dense(15, activation='tanh'))\n",
    "model.add(Dense(20, activation='tanh'))\n",
    "#model.add(Dense(5, activation='tanh'))\n",
    "model.add(Dense(2, activation='softmax'))\n",
    "model.compile(loss='binary_crossentropy', optimizer='adam')\n",
    "\n",
    "monitor = EarlyStopping(monitor='val_loss', min_delta=1e-3, patience=5, verbose=1, mode='auto')\n",
    "\n",
    "model.fit(x_train,y_train,validation_data=(x_test,y_test),callbacks=[monitor,checkpointer],verbose=2,epochs=100)\n",
    "\n",
    "\n",
    "print('Training finished...Loading the best model')  \n",
    "\n",
    "model.load_weights('dnn/best_weights.hdf5') # load weights from best model\n",
    "\n",
    "# Measure accuracy\n",
    "pred = model.predict(x_test)\n",
    "pred = np.argmax(pred,axis=1)\n",
    "\n",
    "y_true = np.argmax(y_test,axis=1)\n",
    "\n",
    "print('FCNN: TANH - ADAM RESULTS')\n",
    "print('Layers: 40 -> 20 -> 2')\n",
    "print('Layer Count: 3')\n",
    "\n",
    "score = metrics.accuracy_score(y_true, pred)\n",
    "print(\"Final accuracy: {}\".format(score))\n",
    "\n",
    "score = metrics.precision_score(y_true, pred, average= \"weighted\")\n",
    "print(\"Precision score: {}\".format(score))\n",
    "\n",
    "score = metrics.recall_score(y_true, pred, average= \"weighted\")\n",
    "print(\"Recall score: {}\".format(score))\n",
    "\n",
    "score = metrics.f1_score(y_true, pred, average= \"weighted\")\n",
    "print(\"F1 score: {}\".format(score))\n",
    "\n",
    "score = metrics.log_loss(y_test, pred)\n",
    "print(\"Log loss score: {}\".format(score))"
   ]
  },
  {
   "cell_type": "code",
   "execution_count": 132,
   "metadata": {},
   "outputs": [
    {
     "name": "stdout",
     "output_type": "stream",
     "text": [
      "Plotting confusion matrix\n"
     ]
    },
    {
     "data": {
      "image/png": "[encoded data removed]",
      "text/plain": [
       "<Figure size 432x288 with 2 Axes>"
      ]
     },
     "metadata": {
      "needs_background": "light"
     },
     "output_type": "display_data"
    },
    {
     "name": "stdout",
     "output_type": "stream",
     "text": [
      "              precision    recall  f1-score   support\n",
      "\n",
      "           0       1.00      1.00      1.00     22022\n",
      "           1       1.00      1.00      1.00     14374\n",
      "\n",
      "    accuracy                           1.00     36396\n",
      "   macro avg       1.00      1.00      1.00     36396\n",
      "weighted avg       1.00      1.00      1.00     36396\n",
      "\n"
     ]
    }
   ],
   "source": [
    "from sklearn import svm, datasets\n",
    "from sklearn.model_selection import train_test_split\n",
    "from sklearn.metrics import confusion_matrix, classification_report\n",
    "\n",
    "# Compute confusion matrix\n",
    "cm = confusion_matrix(y_true, pred)\n",
    "\n",
    "print('Plotting confusion matrix')\n",
    "\n",
    "plt.figure()\n",
    "plot_confusion_matrix(cm, outcome)\n",
    "plt.show()\n",
    "\n",
    "print(classification_report(y_true, pred))"
   ]
  },
  {
   "cell_type": "code",
   "execution_count": 133,
   "metadata": {},
   "outputs": [],
   "source": [
    "########## CONVOLUTIONAL NEURAL NETWORK MODEL ##########"
   ]
  },
  {
   "cell_type": "code",
   "execution_count": 134,
   "metadata": {},
   "outputs": [
    {
     "name": "stdout",
     "output_type": "stream",
     "text": [
      "(145584, 1, 39, 1)\n",
      "(109188, 1, 39, 1)\n",
      "(36396, 1, 39, 1)\n",
      "(145584, 2)\n",
      "(109188, 2)\n",
      "(36396, 2)\n"
     ]
    }
   ],
   "source": [
    "x2, y2 = to_xy(processed_df, 'outcome')\n",
    "x2 = x2.reshape(145584, 1, 39, 1)\n",
    "x2_train, x2_test, y2_train, y2_test = train_test_split(x2, y2, test_size=0.25, random_state=42)\n",
    "\n",
    "print(x2.shape)\n",
    "\n",
    "print(x2_train.shape)\n",
    "print(x2_test.shape)\n",
    "print(y2.shape)\n",
    "print(y2_train.shape)\n",
    "print(y2_test.shape)"
   ]
  },
  {
   "cell_type": "code",
   "execution_count": 140,
   "metadata": {},
   "outputs": [],
   "source": [
    "from tensorflow.keras.layers import Conv2D, MaxPooling2D\n",
    "\n",
    "cnn = Sequential()\n",
    "cnn.add(Conv2D(filters=2, kernel_size=(1,2), strides=(1,1),\n",
    "        activation='relu', input_shape=(1, 39, 1)))\n",
    "\n",
    "cnn.add(MaxPooling2D(pool_size=(1,2)))\n",
    "cnn.add(Flatten())\n",
    "cnn.add(Dense(100, activation='relu'))\n",
    "cnn.add(Dropout(0.5))\n",
    "cnn.add(Dense(2, activation=\"softmax\"))\n",
    "\n",
    "cnn.compile(loss=\"binary_crossentropy\", optimizer=\"adam\", metrics=\"accuracy\")"
   ]
  },
  {
   "cell_type": "code",
   "execution_count": 141,
   "metadata": {},
   "outputs": [
    {
     "name": "stdout",
     "output_type": "stream",
     "text": [
      "Epoch 1/10\n",
      "19/19 - 0s - loss: 1.9613 - accuracy: 0.4783 - val_loss: 0.5503 - val_accuracy: 0.9600\n",
      "Epoch 2/10\n",
      "19/19 - 0s - loss: 1.3212 - accuracy: 0.5767 - val_loss: 0.3558 - val_accuracy: 0.9500\n",
      "Epoch 3/10\n",
      "19/19 - 0s - loss: 0.9174 - accuracy: 0.7133 - val_loss: 0.2341 - val_accuracy: 0.9600\n",
      "Epoch 4/10\n",
      "19/19 - 0s - loss: 0.6034 - accuracy: 0.8117 - val_loss: 0.1854 - val_accuracy: 0.9600\n",
      "Epoch 5/10\n",
      "19/19 - 0s - loss: 0.4689 - accuracy: 0.8517 - val_loss: 0.1646 - val_accuracy: 0.9600\n",
      "Epoch 6/10\n",
      "19/19 - 0s - loss: 0.3401 - accuracy: 0.8900 - val_loss: 0.1505 - val_accuracy: 0.9600\n",
      "Epoch 7/10\n",
      "19/19 - 0s - loss: 0.3309 - accuracy: 0.9100 - val_loss: 0.1428 - val_accuracy: 0.9600\n",
      "Epoch 8/10\n",
      "19/19 - 0s - loss: 0.2644 - accuracy: 0.9167 - val_loss: 0.1334 - val_accuracy: 0.9600\n",
      "Epoch 9/10\n",
      "19/19 - 0s - loss: 0.2163 - accuracy: 0.9450 - val_loss: 0.1271 - val_accuracy: 0.9600\n",
      "Epoch 10/10\n",
      "19/19 - 0s - loss: 0.1908 - accuracy: 0.9400 - val_loss: 0.1175 - val_accuracy: 0.9600\n",
      "Elapsed time: 0:00:00.77\n"
     ]
    }
   ],
   "source": [
    "import time\n",
    "\n",
    "start_time = time.time()\n",
    "\n",
    "# 1% of dataset\n",
    "\n",
    "cnn.fit(x2_train[0:600], y2_train[0:600],     \n",
    "          batch_size=32,\n",
    "          epochs=10,\n",
    "          verbose=2,\n",
    "          validation_data=(x2_test[0:100], y2_test[0:100]))\n",
    "\n",
    "elapsed_time = time.time() - start_time\n",
    "print(\"Elapsed time: {}\".format(hms_string(elapsed_time)))\n"
   ]
  },
  {
   "cell_type": "code",
   "execution_count": 142,
   "metadata": {},
   "outputs": [
    {
     "name": "stdout",
     "output_type": "stream",
     "text": [
      "CNN: RELU - ADAM RESULTS\n",
      "Layers: 100 -> 2\n",
      "Layer Count: 2\n",
      "Kernel: (1,4)\n",
      "Test loss: 0.11745862662792206\n",
      "Test accuracy: 0.9599999785423279\n"
     ]
    }
   ],
   "source": [
    "score = cnn.evaluate(x2_test[0:100], y2_test[0:100], verbose=0)\n",
    "print('CNN: RELU - ADAM RESULTS')\n",
    "print('Layers: 100 -> 2')\n",
    "print('Layer Count: 2')\n",
    "print('Kernel: (1,4)')\n",
    "print('Test loss: {}'.format(score[0]))\n",
    "print('Test accuracy: {}'.format(score[1]))"
   ]
  },
  {
   "cell_type": "code",
   "execution_count": 138,
   "metadata": {},
   "outputs": [
    {
     "name": "stdout",
     "output_type": "stream",
     "text": [
      "Accuracy: 0.972\n",
      "Averaged F1: 0.9718477443609022\n",
      "              precision    recall  f1-score   support\n",
      "\n",
      "           0       0.96      1.00      0.98       298\n",
      "           1       0.99      0.94      0.96       202\n",
      "\n",
      "    accuracy                           0.97       500\n",
      "   macro avg       0.98      0.97      0.97       500\n",
      "weighted avg       0.97      0.97      0.97       500\n",
      "\n"
     ]
    }
   ],
   "source": [
    "from sklearn import metrics\n",
    "\n",
    "y2_true = np.argmax(y2_test[0:500],axis=1)\n",
    "cnn_pred = cnn.predict(x2_test[0:500])\n",
    "cnn_pred = np.argmax(cnn_pred,axis=1)\n",
    "\n",
    "\n",
    "score = metrics.accuracy_score(y2_true, cnn_pred)\n",
    "print('Accuracy: {}'.format(score))\n",
    "\n",
    "\n",
    "f1 = metrics.f1_score(y2_true, cnn_pred, average='weighted')\n",
    "print('Averaged F1: {}'.format(f1))\n",
    "\n",
    "           \n",
    "print(metrics.classification_report(y2_true, cnn_pred))"
   ]
  },
  {
   "cell_type": "code",
   "execution_count": 139,
   "metadata": {},
   "outputs": [
    {
     "name": "stdout",
     "output_type": "stream",
     "text": [
      "Plotting confusion matrix\n"
     ]
    },
    {
     "data": {
      "image/png": "[encoded data removed]",
      "text/plain": [
       "<Figure size 432x288 with 2 Axes>"
      ]
     },
     "metadata": {
      "needs_background": "light"
     },
     "output_type": "display_data"
    },
    {
     "name": "stdout",
     "output_type": "stream",
     "text": [
      "              precision    recall  f1-score   support\n",
      "\n",
      "           0       1.00      1.00      1.00     22022\n",
      "           1       1.00      1.00      1.00     14374\n",
      "\n",
      "    accuracy                           1.00     36396\n",
      "   macro avg       1.00      1.00      1.00     36396\n",
      "weighted avg       1.00      1.00      1.00     36396\n",
      "\n"
     ]
    }
   ],
   "source": [
    "# Compute confusion matrix\n",
    "cm = confusion_matrix(y2_true, cnn_pred)\n",
    "\n",
    "print('Plotting confusion matrix')\n",
    "\n",
    "plt.figure()\n",
    "plot_confusion_matrix(cm, outcome)\n",
    "plt.show()\n",
    "\n",
    "print(classification_report(y_true, pred))"
   ]
  }
 ],
 "metadata": {
  "interpreter": {
   "hash": "a1bcb338f4d3549372d154ee237ecc8ba82a4a3fb8d2c3af99411bc4e95e01de"
  },
  "kernelspec": {
   "display_name": "Python 3.9.7 64-bit ('myenv': conda)",
   "name": "python3"
  },
  "language_info": {
   "codemirror_mode": {
    "name": "ipython",
    "version": 3
   },
   "file_extension": ".py",
   "mimetype": "text/x-python",
   "name": "python",
   "nbconvert_exporter": "python",
   "pygments_lexer": "ipython3",
   "version": "3.9.7"
  },
  "orig_nbformat": 4
 },
 "nbformat": 4,
 "nbformat_minor": 2
}
