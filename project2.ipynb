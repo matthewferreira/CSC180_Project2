{
 "cells": [
  {
   "cell_type": "code",
   "execution_count": 231,
   "metadata": {},
   "outputs": [
    {
     "name": "stdout",
     "output_type": "stream",
     "text": [
      "(494020, 42)\n"
     ]
    }
   ],
   "source": [
    "import csv\n",
    "import pandas as pd\n",
    "import numpy as np\n",
    "\n",
    "df = pd.read_csv('data/network_intrusion_data.csv')\n",
    "print(df.shape)"
   ]
  },
  {
   "cell_type": "code",
   "execution_count": 232,
   "metadata": {},
   "outputs": [],
   "source": [
    "df.columns = ['duration', 'protocol_type','service','flag', 'src_bytes','dst_bytes','land','wrong_fragment','urgent','hot','num_failed_logins', 'logged_in', 'num_compromised', 'root_shell', 'su_attempted',\n",
    "    'num_root', 'num_file_creations', 'num_shells', 'num_access_files', 'num_outbound_cmds', 'is_host_login','is_guest_login', 'count', 'srv_count', 'serror_rate', 'srv_serror_rate', 'rerror_rate', 'srv_rerror_rate',\n",
    "     'same_srv_rate', 'diff_srv_rate', 'srv_diff_host_rate','dst_host_count', 'dst_host_srv_count', 'dst_host_same_srv_rate', 'dst_host_diff_srv_rate', 'dst_host_same_src_port_rate', 'dst_host_srv_diff_host_rate', 'dst_host_serror_rate', \n",
    "     'dst_host_srv_serror_rate', 'dst_host_rerror_rate', 'dst_host_srv_rerror_rate', 'outcome' ] "
   ]
  },
  {
   "cell_type": "code",
   "execution_count": 233,
   "metadata": {},
   "outputs": [],
   "source": [
    "#print(type(df['outcome'].values))\n",
    "#print(df['outcome'].values[0])\n",
    "\n",
    "for i in range(df['outcome'].values.size):\n",
    "    if df['outcome'].values[i] == 'normal.':\n",
    "        df['outcome'].values[i] = 0\n",
    "    elif df['outcome'].values[i] != 'normal.':\n",
    "        df['outcome'].values[i] = 1\n",
    "\n",
    "\n",
    "#print(df['outcome'].head(15))"
   ]
  },
  {
   "cell_type": "code",
   "execution_count": 234,
   "metadata": {},
   "outputs": [
    {
     "name": "stdout",
     "output_type": "stream",
     "text": [
      "(145584, 42)\n"
     ]
    }
   ],
   "source": [
    "#dropping duplicate records\n",
    "df.drop_duplicates(keep='first', inplace=True)\n",
    "print(df.shape)"
   ]
  },
  {
   "cell_type": "code",
   "execution_count": 235,
   "metadata": {},
   "outputs": [],
   "source": [
    "# Encode text values to indexes(i.e. [1],[2],[3] for red,green,blue).\n",
    "from sklearn import preprocessing\n",
    "def encode_text_index(df, name):\n",
    "    le = preprocessing.LabelEncoder()\n",
    "    df[name] = le.fit_transform(df[name])\n",
    "    return le.classes_"
   ]
  },
  {
   "cell_type": "code",
   "execution_count": 236,
   "metadata": {},
   "outputs": [],
   "source": [
    "#encoding categorical features: protocol type,service, flag\n",
    "encoded_df = df\n",
    "categorical_features = pd.Index(['protocol_type', 'service', 'flag'])\n",
    "for feature in categorical_features:\n",
    "    encode_text_index(encoded_df, feature)\n"
   ]
  },
  {
   "cell_type": "code",
   "execution_count": 237,
   "metadata": {},
   "outputs": [],
   "source": [
    "#encoding numerical features\n",
    "def encode_numeric_zscore(df, name, mean=None, sd=None):\n",
    "    if mean is None:\n",
    "        mean = df[name].mean()\n",
    "\n",
    "    if sd is None:\n",
    "        sd = df[name].std()\n",
    "\n",
    "    df[name] = (df[name] - mean) / sd"
   ]
  },
  {
   "cell_type": "code",
   "execution_count": 238,
   "metadata": {},
   "outputs": [],
   "source": [
    "numeric_features = pd.Index(['duration', 'src_bytes','dst_bytes','land','wrong_fragment','urgent','hot','num_failed_logins', 'logged_in', 'num_compromised', 'root_shell', 'su_attempted',\n",
    "    'num_root', 'num_file_creations', 'num_shells', 'num_access_files', 'num_outbound_cmds', 'is_host_login','is_guest_login', 'count', 'srv_count', 'serror_rate', 'srv_serror_rate', 'rerror_rate', 'srv_rerror_rate',\n",
    "     'same_srv_rate', 'diff_srv_rate', 'srv_diff_host_rate','dst_host_count', 'dst_host_srv_count', 'dst_host_same_srv_rate', 'dst_host_diff_srv_rate', 'dst_host_same_src_port_rate', 'dst_host_srv_diff_host_rate', 'dst_host_serror_rate', \n",
    "     'dst_host_srv_serror_rate', 'dst_host_rerror_rate', 'dst_host_srv_rerror_rate' ])"
   ]
  },
  {
   "cell_type": "code",
   "execution_count": 239,
   "metadata": {},
   "outputs": [],
   "source": [
    "#encoding numeric features\n",
    "for feature in numeric_features:\n",
    "    encode_numeric_zscore(encoded_df, feature)"
   ]
  },
  {
   "cell_type": "code",
   "execution_count": 240,
   "metadata": {},
   "outputs": [
    {
     "name": "stdout",
     "output_type": "stream",
     "text": [
      "   duration  protocol_type  service  flag  src_bytes  dst_bytes      land  \\\n",
      "0 -0.107851              1       22     9  -0.004261  -0.039036 -0.011722   \n",
      "1 -0.107851              1       22     9  -0.004263  -0.025042 -0.011722   \n",
      "2 -0.107851              1       22     9  -0.004272  -0.025042 -0.011722   \n",
      "3 -0.107851              1       22     9  -0.004273  -0.013613 -0.011722   \n",
      "4 -0.107851              1       22     9  -0.004273  -0.013613 -0.011722   \n",
      "\n",
      "   wrong_fragment    urgent      hot  ...  dst_host_srv_count  \\\n",
      "0       -0.084394 -0.004737 -0.07021  ...           -0.967064   \n",
      "1       -0.084394 -0.004737 -0.07021  ...           -0.879891   \n",
      "2       -0.084394 -0.004737 -0.07021  ...           -0.792718   \n",
      "3       -0.084394 -0.004737 -0.07021  ...           -0.705545   \n",
      "4       -0.084394 -0.004737 -0.07021  ...           -0.618372   \n",
      "\n",
      "   dst_host_same_srv_rate  dst_host_diff_srv_rate  \\\n",
      "0                0.979281               -0.417557   \n",
      "1                0.979281               -0.417557   \n",
      "2                0.979281               -0.417557   \n",
      "3                0.979281               -0.417557   \n",
      "4                0.979281               -0.417557   \n",
      "\n",
      "   dst_host_same_src_port_rate  dst_host_srv_diff_host_rate  \\\n",
      "0                    -0.177587                    -0.315311   \n",
      "1                    -0.260536                    -0.315311   \n",
      "2                    -0.260536                    -0.315311   \n",
      "3                    -0.302010                    -0.315311   \n",
      "4                    -0.302010                    -0.315311   \n",
      "\n",
      "   dst_host_serror_rate  dst_host_srv_serror_rate  dst_host_rerror_rate  \\\n",
      "0             -0.644432                 -0.641709             -0.360879   \n",
      "1             -0.644432                 -0.641709             -0.360879   \n",
      "2             -0.644432                 -0.641709             -0.360879   \n",
      "3             -0.644432                 -0.641709             -0.360879   \n",
      "4             -0.644432                 -0.641709             -0.360879   \n",
      "\n",
      "   dst_host_srv_rerror_rate  outcome  \n",
      "0                 -0.353942        0  \n",
      "1                 -0.353942        0  \n",
      "2                 -0.353942        0  \n",
      "3                 -0.353942        0  \n",
      "4                 -0.353942        0  \n",
      "\n",
      "[5 rows x 40 columns]\n"
     ]
    }
   ],
   "source": [
    "# dropping columns that were NaN after normalizing\n",
    "processed_df = encoded_df.drop(columns=['is_host_login', 'num_outbound_cmds'])\n",
    "print(processed_df.head())"
   ]
  },
  {
   "cell_type": "code",
   "execution_count": 241,
   "metadata": {},
   "outputs": [],
   "source": [
    "from collections.abc import Sequence\n",
    "# Convert a Pandas dataframe to the x,y inputs that TensorFlow needs\n",
    "def to_xy(df, target):\n",
    "    result = []\n",
    "    for x in df.columns:\n",
    "        if x != target:\n",
    "            result.append(x)\n",
    "    # find out the type of the target column. \n",
    "    target_type = df[target].dtypes\n",
    "    target_type = target_type[0] if isinstance(target_type, Sequence) else target_type\n",
    "    # Encode to int for classification, float otherwise. TensorFlow likes 32 bits.\n",
    "    if target_type in (np.int64, np.int32):\n",
    "        # Classification\n",
    "        dummies = pd.get_dummies(df[target])\n",
    "        return df[result].values.astype(np.float32), dummies.values.astype(np.float32)\n",
    "    else:\n",
    "        # Regression\n",
    "        return df[result].values.astype(np.float32), df[target].values.astype(np.float32)\n",
    "\n",
    "\n"
   ]
  },
  {
   "cell_type": "code",
   "execution_count": 242,
   "metadata": {},
   "outputs": [],
   "source": [
    "#splitting data into test and train\n",
    "x, y = to_xy(processed_df, 'outcome')\n",
    "outcome = encode_text_index(processed_df,'outcome')\n",
    "from sklearn.model_selection import train_test_split\n",
    "import tensorflow as tf\n",
    "x_train, x_test, y_train, y_test = train_test_split(x, y, test_size=0.25, random_state=42)"
   ]
  },
  {
   "cell_type": "code",
   "execution_count": 243,
   "metadata": {},
   "outputs": [],
   "source": [
    "\n",
    "from tensorflow.keras.models import Sequential\n",
    "from tensorflow.keras.layers import Dense, Dropout, Flatten\n",
    "from tensorflow.keras.layers import Conv1D, MaxPooling1D\n",
    "from tensorflow.keras.callbacks import ModelCheckpoint, EarlyStopping\n",
    "\n",
    "from sklearn import metrics\n",
    "\n",
    "%matplotlib inline\n",
    "import matplotlib.pyplot as plt\n",
    "from sklearn.metrics import roc_curve, auc\n",
    "\n",
    "# Plot a confusion matrix.\n",
    "# cm is the confusion matrix, names are the names of the classes.\n",
    "def plot_confusion_matrix(cm, names, title='Confusion matrix', cmap=plt.cm.Blues):\n",
    "    plt.imshow(cm, interpolation='nearest', cmap=cmap)\n",
    "    plt.title(title)\n",
    "    plt.colorbar()\n",
    "    tick_marks = np.arange(len(names))\n",
    "    plt.xticks(tick_marks, names, rotation=45)\n",
    "    plt.yticks(tick_marks, names)\n",
    "    plt.tight_layout()\n",
    "    plt.ylabel('True label')\n",
    "    plt.xlabel('Predicted label')\n",
    "\n",
    "def hms_string(sec_elapsed):\n",
    "    h = int(sec_elapsed / (60 * 60))\n",
    "    m = int((sec_elapsed % (60 * 60)) / 60)\n",
    "    s = sec_elapsed % 60\n",
    "    return \"{}:{:>02}:{:>05.2f}\".format(h, m, s)"
   ]
  },
  {
   "cell_type": "code",
   "execution_count": 244,
   "metadata": {},
   "outputs": [],
   "source": [
    "y_train = tf.keras.utils.to_categorical(y_train, 2)\n",
    "y_test = tf.keras.utils.to_categorical(y_test, 2)\n",
    "#print(y_train.shape)\n",
    "#print(y_test.shape)\n"
   ]
  },
  {
   "cell_type": "code",
   "execution_count": 245,
   "metadata": {},
   "outputs": [
    {
     "name": "stdout",
     "output_type": "stream",
     "text": [
      "494019\n",
      "Epoch 1/100\n",
      "3413/3413 - 2s - loss: 0.0513 - val_loss: 0.0166\n",
      "Epoch 2/100\n",
      "3413/3413 - 2s - loss: 0.0144 - val_loss: 0.0117\n",
      "Epoch 3/100\n",
      "3413/3413 - 2s - loss: 0.0118 - val_loss: 0.0139\n",
      "Epoch 4/100\n",
      "3413/3413 - 2s - loss: 0.0107 - val_loss: 0.0097\n",
      "Epoch 5/100\n",
      "3413/3413 - 2s - loss: 0.0096 - val_loss: 0.0088\n",
      "Epoch 6/100\n",
      "3413/3413 - 2s - loss: 0.0094 - val_loss: 0.0092\n",
      "Epoch 7/100\n",
      "3413/3413 - 2s - loss: 0.0086 - val_loss: 0.0090\n",
      "Epoch 8/100\n",
      "3413/3413 - 2s - loss: 0.0083 - val_loss: 0.0075\n",
      "Epoch 9/100\n",
      "3413/3413 - 2s - loss: 0.0080 - val_loss: 0.0085\n",
      "Epoch 10/100\n",
      "3413/3413 - 2s - loss: 0.0076 - val_loss: 0.0080\n",
      "Epoch 11/100\n",
      "3413/3413 - 2s - loss: 0.0073 - val_loss: 0.0080\n",
      "Epoch 12/100\n",
      "3413/3413 - 2s - loss: 0.0073 - val_loss: 0.0080\n",
      "Epoch 13/100\n",
      "3413/3413 - 2s - loss: 0.0070 - val_loss: 0.0072\n",
      "Epoch 00013: early stopping\n",
      "Training finished...Loading the best model\n",
      "Final accuracy: 0.9980217606330366\n",
      "Precision score: 0.9980227001421607\n",
      "Recall score: 0.9980217606330366\n",
      "F1 score: 0.9980219751626144\n",
      "Log loss score: 0.06832695577310596\n"
     ]
    }
   ],
   "source": [
    "# Define ModelCheckpoint outside the loop\n",
    "checkpointer = ModelCheckpoint(filepath=\"dnn/best_weights.hdf5\", verbose=0, save_best_only=True) # save best model\n",
    "\n",
    "#for i in range(5):\n",
    "print(i)\n",
    "\n",
    " # Build network\n",
    "model = Sequential()\n",
    "model.add(Dense(20, input_dim=x.shape[1], activation='tanh'))\n",
    "model.add(Dense(15, activation='tanh'))\n",
    "model.add(Dense(10, activation='tanh'))\n",
    "model.add(Dense(5, activation='tanh'))\n",
    "model.add(Dense(2, activation='softmax'))\n",
    "model.compile(loss='binary_crossentropy', optimizer='adam')\n",
    "\n",
    "monitor = EarlyStopping(monitor='val_loss', min_delta=1e-3, patience=5, verbose=1, mode='auto')\n",
    "\n",
    "model.fit(x_train,y_train,validation_data=(x_test,y_test),callbacks=[monitor,checkpointer],verbose=2,epochs=100)\n",
    "\n",
    "\n",
    "print('Training finished...Loading the best model')  \n",
    "\n",
    "model.load_weights('dnn/best_weights.hdf5') # load weights from best model\n",
    "\n",
    "# Measure accuracy\n",
    "pred = model.predict(x_test)\n",
    "pred = np.argmax(pred,axis=1)\n",
    "\n",
    "y_true = np.argmax(y_test,axis=1)\n",
    "\n",
    "score = metrics.accuracy_score(y_true, pred)\n",
    "print(\"Final accuracy: {}\".format(score))\n",
    "\n",
    "score = metrics.precision_score(y_true, pred, average= \"weighted\")\n",
    "print(\"Precision score: {}\".format(score))\n",
    "\n",
    "score = metrics.recall_score(y_true, pred, average= \"weighted\")\n",
    "print(\"Recall score: {}\".format(score))\n",
    "\n",
    "score = metrics.f1_score(y_true, pred, average= \"weighted\")\n",
    "print(\"F1 score: {}\".format(score))\n",
    "\n",
    "score = metrics.log_loss(y_test, pred)\n",
    "print(\"Log loss score: {}\".format(score))"
   ]
  },
  {
   "cell_type": "code",
   "execution_count": 246,
   "metadata": {},
   "outputs": [
    {
     "name": "stdout",
     "output_type": "stream",
     "text": [
      "[[21977    45]\n",
      " [   27 14347]]\n",
      "Plotting confusion matrix\n"
     ]
    },
    {
     "data": {
      "image/png": "[encoded data removed]",
      "text/plain": [
       "<Figure size 432x288 with 2 Axes>"
      ]
     },
     "metadata": {
      "needs_background": "light"
     },
     "output_type": "display_data"
    },
    {
     "name": "stdout",
     "output_type": "stream",
     "text": [
      "              precision    recall  f1-score   support\n",
      "\n",
      "           0       1.00      1.00      1.00     22022\n",
      "           1       1.00      1.00      1.00     14374\n",
      "\n",
      "    accuracy                           1.00     36396\n",
      "   macro avg       1.00      1.00      1.00     36396\n",
      "weighted avg       1.00      1.00      1.00     36396\n",
      "\n"
     ]
    }
   ],
   "source": [
    "from sklearn import svm, datasets\n",
    "from sklearn.model_selection import train_test_split\n",
    "from sklearn.metrics import confusion_matrix, classification_report\n",
    "\n",
    "# Compute confusion matrix\n",
    "cm = confusion_matrix(y_true, pred)\n",
    "print(cm)\n",
    "\n",
    "\n",
    "print('Plotting confusion matrix')\n",
    "\n",
    "plt.figure()\n",
    "plot_confusion_matrix(cm, outcome)\n",
    "plt.show()\n",
    "\n",
    "print(classification_report(y_true, pred))"
   ]
  },
  {
   "cell_type": "code",
   "execution_count": 247,
   "metadata": {},
   "outputs": [],
   "source": [
    "########## CONVOLUTIONAL NEURAL NETWORK MODEL ##########"
   ]
  },
  {
   "cell_type": "code",
   "execution_count": 248,
   "metadata": {},
   "outputs": [
    {
     "name": "stdout",
     "output_type": "stream",
     "text": [
      "(145584, 1, 39, 1)\n",
      "(109188, 1, 39, 1)\n",
      "(36396, 1, 39, 1)\n",
      "(145584, 2)\n",
      "(109188, 2)\n",
      "(36396, 2)\n"
     ]
    }
   ],
   "source": [
    "x2, y2 = to_xy(processed_df, 'outcome')\n",
    "x2 = x2.reshape(145584, 1, 39, 1)\n",
    "x2_train, x2_test, y2_train, y2_test = train_test_split(x2, y2, test_size=0.25, random_state=42)\n",
    "\n",
    "print(x2.shape)\n",
    "\n",
    "print(x2_train.shape)\n",
    "print(x2_test.shape)\n",
    "print(y2.shape)\n",
    "print(y2_train.shape)\n",
    "print(y2_test.shape)"
   ]
  },
  {
   "cell_type": "code",
   "execution_count": 249,
   "metadata": {},
   "outputs": [],
   "source": [
    "from tensorflow.keras.layers import Conv2D, MaxPooling2D\n",
    "\n",
    "cnn = Sequential()\n",
    "cnn.add(Conv2D(filters=2, kernel_size=(1,3), strides=(1,1),\n",
    "        activation='relu', input_shape=(1, 39, 1)))\n",
    "\n",
    "cnn.add(MaxPooling2D(pool_size=(1,2)))\n",
    "cnn.add(Flatten())\n",
    "cnn.add(Dense(100, activation='relu'))\n",
    "cnn.add(Dropout(0.5))\n",
    "cnn.add(Dense(2, activation=\"softmax\"))\n",
    "\n",
    "cnn.compile(loss=\"binary_crossentropy\", optimizer=\"adam\", metrics=\"accuracy\")"
   ]
  },
  {
   "cell_type": "code",
   "execution_count": 250,
   "metadata": {},
   "outputs": [
    {
     "name": "stdout",
     "output_type": "stream",
     "text": [
      "Epoch 1/10\n",
      "19/19 - 0s - loss: 1.4257 - accuracy: 0.4933 - val_loss: 0.6098 - val_accuracy: 0.8800\n",
      "Epoch 2/10\n",
      "19/19 - 0s - loss: 1.0964 - accuracy: 0.5717 - val_loss: 0.4806 - val_accuracy: 0.8900\n",
      "Epoch 3/10\n",
      "19/19 - 0s - loss: 0.8448 - accuracy: 0.6617 - val_loss: 0.3831 - val_accuracy: 0.9100\n",
      "Epoch 4/10\n",
      "19/19 - 0s - loss: 0.5863 - accuracy: 0.7683 - val_loss: 0.3053 - val_accuracy: 0.9100\n",
      "Epoch 5/10\n",
      "19/19 - 0s - loss: 0.5300 - accuracy: 0.8400 - val_loss: 0.2467 - val_accuracy: 0.9200\n",
      "Epoch 6/10\n",
      "19/19 - 0s - loss: 0.3985 - accuracy: 0.8733 - val_loss: 0.2071 - val_accuracy: 0.9400\n",
      "Epoch 7/10\n",
      "19/19 - 0s - loss: 0.3233 - accuracy: 0.9033 - val_loss: 0.1793 - val_accuracy: 0.9600\n",
      "Epoch 8/10\n",
      "19/19 - 0s - loss: 0.2713 - accuracy: 0.9067 - val_loss: 0.1577 - val_accuracy: 0.9500\n",
      "Epoch 9/10\n",
      "19/19 - 0s - loss: 0.2380 - accuracy: 0.9217 - val_loss: 0.1400 - val_accuracy: 0.9700\n",
      "Epoch 10/10\n",
      "19/19 - 0s - loss: 0.1986 - accuracy: 0.9500 - val_loss: 0.1178 - val_accuracy: 0.9700\n",
      "Elapsed time: 0:00:00.69\n"
     ]
    }
   ],
   "source": [
    "import time\n",
    "\n",
    "start_time = time.time()\n",
    "\n",
    "# 1% of dataset\n",
    "\n",
    "cnn.fit(x2_train[0:600], y2_train[0:600],     \n",
    "          batch_size=32,\n",
    "          epochs=10,\n",
    "          verbose=2,\n",
    "          validation_data=(x2_test[0:100], y2_test[0:100]))\n",
    "\n",
    "elapsed_time = time.time() - start_time\n",
    "print(\"Elapsed time: {}\".format(hms_string(elapsed_time)))\n"
   ]
  },
  {
   "cell_type": "code",
   "execution_count": 251,
   "metadata": {},
   "outputs": [
    {
     "name": "stdout",
     "output_type": "stream",
     "text": [
      "Test loss: 0.1177791878581047\n",
      "Test accuracy: 0.9700000286102295\n"
     ]
    }
   ],
   "source": [
    "score = cnn.evaluate(x2_test[0:100], y2_test[0:100], verbose=0)\n",
    "print('Test loss: {}'.format(score[0]))\n",
    "print('Test accuracy: {}'.format(score[1]))"
   ]
  },
  {
   "cell_type": "code",
   "execution_count": 252,
   "metadata": {},
   "outputs": [
    {
     "name": "stdout",
     "output_type": "stream",
     "text": [
      "Accuracy: 0.968\n",
      "Averaged F1: 0.967825993555317\n",
      "              precision    recall  f1-score   support\n",
      "\n",
      "           0       0.95      0.99      0.97       298\n",
      "           1       0.99      0.93      0.96       202\n",
      "\n",
      "    accuracy                           0.97       500\n",
      "   macro avg       0.97      0.96      0.97       500\n",
      "weighted avg       0.97      0.97      0.97       500\n",
      "\n"
     ]
    }
   ],
   "source": [
    "from sklearn import metrics\n",
    "\n",
    "y2_true = np.argmax(y2_test[0:500],axis=1)\n",
    "cnn_pred = cnn.predict(x2_test[0:500])\n",
    "cnn_pred = np.argmax(cnn_pred,axis=1)\n",
    "\n",
    "\n",
    "score = metrics.accuracy_score(y2_true, cnn_pred)\n",
    "print('Accuracy: {}'.format(score))\n",
    "\n",
    "\n",
    "f1 = metrics.f1_score(y2_true, cnn_pred, average='weighted')\n",
    "print('Averaged F1: {}'.format(f1))\n",
    "\n",
    "           \n",
    "print(metrics.classification_report(y2_true, cnn_pred))"
   ]
  },
  {
   "cell_type": "code",
   "execution_count": 253,
   "metadata": {},
   "outputs": [
    {
     "name": "stdout",
     "output_type": "stream",
     "text": [
      "[[296   2]\n",
      " [ 14 188]]\n",
      "Plotting confusion matrix\n"
     ]
    },
    {
     "data": {
      "image/png": "[encoded data removed]",
      "text/plain": [
       "<Figure size 432x288 with 2 Axes>"
      ]
     },
     "metadata": {
      "needs_background": "light"
     },
     "output_type": "display_data"
    },
    {
     "name": "stdout",
     "output_type": "stream",
     "text": [
      "              precision    recall  f1-score   support\n",
      "\n",
      "           0       1.00      1.00      1.00     22022\n",
      "           1       1.00      1.00      1.00     14374\n",
      "\n",
      "    accuracy                           1.00     36396\n",
      "   macro avg       1.00      1.00      1.00     36396\n",
      "weighted avg       1.00      1.00      1.00     36396\n",
      "\n"
     ]
    }
   ],
   "source": [
    "# Compute confusion matrix\n",
    "cm = confusion_matrix(y2_true, cnn_pred)\n",
    "print(cm)\n",
    "\n",
    "\n",
    "print('Plotting confusion matrix')\n",
    "\n",
    "plt.figure()\n",
    "plot_confusion_matrix(cm, outcome)\n",
    "plt.show()\n",
    "\n",
    "print(classification_report(y_true, pred))"
   ]
  }
 ],
 "metadata": {
  "interpreter": {
   "hash": "a1bcb338f4d3549372d154ee237ecc8ba82a4a3fb8d2c3af99411bc4e95e01de"
  },
  "kernelspec": {
   "display_name": "Python 3.9.7 64-bit ('myenv': conda)",
   "name": "python3"
  },
  "language_info": {
   "codemirror_mode": {
    "name": "ipython",
    "version": 3
   },
   "file_extension": ".py",
   "mimetype": "text/x-python",
   "name": "python",
   "nbconvert_exporter": "python",
   "pygments_lexer": "ipython3",
   "version": "3.9.7"
  },
  "orig_nbformat": 4
 },
 "nbformat": 4,
 "nbformat_minor": 2
}
